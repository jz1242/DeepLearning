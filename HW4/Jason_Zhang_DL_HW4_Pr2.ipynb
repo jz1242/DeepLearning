{
 "cells": [
  {
   "cell_type": "markdown",
   "metadata": {},
   "source": [
    "Jason Zhang\n",
    "HW4 problem 2"
   ]
  },
  {
   "cell_type": "code",
   "execution_count": 29,
   "metadata": {},
   "outputs": [],
   "source": [
    "from torchvision.datasets import FashionMNIST as FM\n",
    "import matplotlib.pyplot as plt\n",
    "import numpy as np\n",
    "import torch\n",
    "from torch import autograd\n",
    "import torch.nn.functional as F\n",
    "import csv\n",
    "import time\n",
    "import torch.nn as nn\n",
    "fmnist_train = FM(\"./\", train=True, download=True)\n",
    "fmnist_test = FM(\"./\", train=False, download=True)\n",
    "train_images = fmnist_train.train_data.numpy().astype(np.float)\n",
    "train_labels = fmnist_train.train_labels.numpy().astype(np.int)\n",
    "test_images = fmnist_test.test_data.numpy().astype(np.float)\n",
    "test_labels = fmnist_test.test_labels.numpy().astype(np.int)"
   ]
  },
  {
   "cell_type": "code",
   "execution_count": 30,
   "metadata": {},
   "outputs": [],
   "source": [
    "size = train_images.shape[1] * train_images.shape[2]\n",
    "\n",
    "train_data = train_images.reshape(train_images.shape[0], size)\n",
    "train_data = (train_data - train_data.mean()) / train_data.std() # Z score normalization\n",
    "train_data = torch.from_numpy(train_data).float()\n",
    "train_labels = torch.from_numpy(train_labels)\n",
    "\n",
    "test_data = test_images.reshape(test_images.shape[0], size)\n",
    "test_data = (test_data - test_data.mean()) / test_data.std() # Z score normalization\n",
    "test_data = torch.from_numpy(test_data).float()\n",
    "test_labels = torch.from_numpy(test_labels)\n",
    "\n",
    "# Get a validation set from the training set in order to check that the model is not overfitting \n",
    "train_split = train_data[0:45000,:]\n",
    "train_split_labels = train_labels[0:45000]\n",
    "val_split = train_data[45000:,:]\n",
    "val_split_labels = train_labels[45000:]\n",
    "\n",
    "#\n",
    "\n",
    "# Total number of possible outputs\n",
    "NUM_CLASSES = 10"
   ]
  },
  {
   "cell_type": "markdown",
   "metadata": {},
   "source": [
    "# 2A"
   ]
  },
  {
   "cell_type": "code",
   "execution_count": 31,
   "metadata": {},
   "outputs": [],
   "source": [
    "class MyCNN(torch.nn.Module):\n",
    "    def __init__(self):\n",
    "        super().__init__()\n",
    "        self.conv1 = torch.nn.Conv2d(1, 16, kernel_size=3, stride = 1)\n",
    "        self.conv2 = torch.nn.Conv2d(16, 32, kernel_size=3, stride = 1)\n",
    "        self.fc1 = nn.Linear(32*4*4, 64)\n",
    "        self.fc2 = nn.Linear(64, 10)\n",
    "        \n",
    "    def forward(self, x):\n",
    "        height = 28\n",
    "        width = 28\n",
    "        x = x.view(-1, height, width).unsqueeze(1)\n",
    "        x = self.conv1(x)\n",
    "        x = F.relu(x);\n",
    "        x = F.max_pool2d(x, kernel_size = 3, stride=2)\n",
    "        x = F.relu(self.conv2(x))\n",
    "        x = F.max_pool2d(x, kernel_size=3, stride=2)\n",
    "        n, c, h, w = x.size()\n",
    "        x = x.view(-1, c*h*w)\n",
    "        x = F.relu(self.fc1(x))\n",
    "        sm = nn.Softmax(dim = 1)\n",
    "        x = sm(self.fc2(x))\n",
    "        return x"
   ]
  },
  {
   "cell_type": "code",
   "execution_count": 32,
   "metadata": {},
   "outputs": [],
   "source": [
    "def train(model, optimizer, batch_size):\n",
    "    model.train()\n",
    "    i = np.random.choice(train_split.shape[0], size=batch_size, replace=False) #Choose a random number of samples for the batch\n",
    "    i = torch.from_numpy(i).long()\n",
    "    x = autograd.Variable(train_split[i, :])\n",
    "    y = autograd.Variable(train_split_labels[i]).long()\n",
    "    optimizer.zero_grad()\n",
    "    y_hat = model(x)\n",
    "    loss = F.cross_entropy(y_hat, y)\n",
    "    loss.backward()\n",
    "    optimizer.step()\n",
    "    return loss.data"
   ]
  },
  {
   "cell_type": "code",
   "execution_count": 33,
   "metadata": {},
   "outputs": [],
   "source": [
    "# Check the accuracy with part of the training set to make sure that the model is not overfitting, this part of training set is\n",
    "# only used for validation\n",
    "def validate_accuracy(model):\n",
    "    x = autograd.Variable(val_split)\n",
    "    y = autograd.Variable(val_split_labels)\n",
    "    total_samples = val_split.shape[0]\n",
    "    output = model(x)\n",
    "    y_hat = np.zeros(total_samples)\n",
    "    for i in range(total_samples):\n",
    "        y_hat[i] = torch.max(output[i,:].data, 0)[1]\n",
    "    return accuracy(y_hat, y.data.numpy())\n",
    "\n",
    "# computes accuracy of the model with the true labels\n",
    "def accuracy(y, y_hat):\n",
    "    count = 0\n",
    "    num = y.shape[0]\n",
    "    for i in range(num):\n",
    "        if y[i] == y_hat[i]:\n",
    "            count += 1\n",
    "    return count/num\n",
    "\n",
    "# Plot training, validation, and loss\n",
    "def plot(acc, loss):\n",
    "    plt.figure(300)\n",
    "    plt.title('Validation Accuracy')\n",
    "    plt.xlabel('Epoch')\n",
    "    plt.ylabel('Accuracy')   \n",
    "    plt.plot(acc, 'b')\n",
    "    plt.figure(400)\n",
    "    plt.title('Loss')\n",
    "    plt.xlabel('Epoch')\n",
    "    plt.ylabel('loss')   \n",
    "    plt.plot(loss, 'b')\n",
    "    plt.show()\n",
    "\n",
    "# begins training with a given model\n",
    "def runModel(model, batch_size, epochs, optimizer):\n",
    "    acc, loss = [], []\n",
    "    for i in range(epochs):\n",
    "        loss.append(train(model, optimizer, batch_size))\n",
    "        if i % 100 == 0:\n",
    "            acc.append(validate_accuracy(model))\n",
    "            print(\"Epoch: {0}, Accuracy: {1:.2f}% Loss: {2:.2f}\".format(i, acc[-1]*100, loss[-1]))\n",
    "    plot(acc, loss)\n",
    "\n",
    "# Function that will predict on the test set    \n",
    "def predict(model):\n",
    "    x = autograd.Variable(test_data)\n",
    "    y = autograd.Variable(test_labels)\n",
    "    y_hat_ = model(x)\n",
    "    total_data = test_data.shape[0]\n",
    "    y_hat = np.zeros(total_data)\n",
    "    for i in range(total_data):\n",
    "        y_hat[i] = torch.max(y_hat_[i,:].data, 0)[1]\n",
    "    return accuracy(y_hat, y.data.numpy())"
   ]
  },
  {
   "cell_type": "code",
   "execution_count": 34,
   "metadata": {
    "scrolled": false
   },
   "outputs": [
    {
     "name": "stdout",
     "output_type": "stream",
     "text": [
      "Epoch: 0, Accuracy: 10.63% Loss: 2.31\n",
      "Epoch: 100, Accuracy: 57.70% Loss: 1.92\n",
      "Epoch: 200, Accuracy: 65.39% Loss: 1.77\n",
      "Epoch: 300, Accuracy: 74.68% Loss: 1.76\n",
      "Epoch: 400, Accuracy: 75.18% Loss: 1.84\n",
      "Epoch: 500, Accuracy: 76.13% Loss: 1.71\n",
      "Epoch: 600, Accuracy: 77.03% Loss: 1.70\n",
      "Epoch: 700, Accuracy: 78.46% Loss: 1.70\n",
      "Epoch: 800, Accuracy: 79.21% Loss: 1.64\n",
      "Epoch: 900, Accuracy: 79.08% Loss: 1.53\n",
      "Epoch: 1000, Accuracy: 79.56% Loss: 1.71\n",
      "Epoch: 1100, Accuracy: 80.15% Loss: 1.60\n",
      "Epoch: 1200, Accuracy: 80.10% Loss: 1.61\n",
      "Epoch: 1300, Accuracy: 81.19% Loss: 1.56\n",
      "Epoch: 1400, Accuracy: 81.00% Loss: 1.60\n",
      "Epoch: 1500, Accuracy: 79.51% Loss: 1.68\n",
      "Epoch: 1600, Accuracy: 81.85% Loss: 1.68\n",
      "Epoch: 1700, Accuracy: 80.71% Loss: 1.58\n",
      "Epoch: 1800, Accuracy: 80.33% Loss: 1.57\n",
      "Epoch: 1900, Accuracy: 82.06% Loss: 1.69\n",
      "Epoch: 2000, Accuracy: 82.35% Loss: 1.62\n",
      "Epoch: 2100, Accuracy: 83.47% Loss: 1.69\n",
      "Epoch: 2200, Accuracy: 82.39% Loss: 1.60\n",
      "Epoch: 2300, Accuracy: 83.25% Loss: 1.73\n",
      "Epoch: 2400, Accuracy: 83.28% Loss: 1.65\n",
      "Epoch: 2500, Accuracy: 83.03% Loss: 1.56\n",
      "Epoch: 2600, Accuracy: 83.32% Loss: 1.64\n",
      "Epoch: 2700, Accuracy: 83.08% Loss: 1.65\n",
      "Epoch: 2800, Accuracy: 83.43% Loss: 1.63\n",
      "Epoch: 2900, Accuracy: 81.33% Loss: 1.64\n",
      "Epoch: 3000, Accuracy: 84.16% Loss: 1.55\n",
      "Epoch: 3100, Accuracy: 83.96% Loss: 1.56\n",
      "Epoch: 3200, Accuracy: 84.25% Loss: 1.61\n",
      "Epoch: 3300, Accuracy: 84.43% Loss: 1.53\n",
      "Epoch: 3400, Accuracy: 84.17% Loss: 1.55\n",
      "Epoch: 3500, Accuracy: 84.45% Loss: 1.58\n",
      "Epoch: 3600, Accuracy: 84.72% Loss: 1.59\n",
      "Epoch: 3700, Accuracy: 84.14% Loss: 1.50\n",
      "Epoch: 3800, Accuracy: 84.51% Loss: 1.64\n",
      "Epoch: 3900, Accuracy: 85.33% Loss: 1.60\n",
      "Epoch: 4000, Accuracy: 84.47% Loss: 1.58\n",
      "Epoch: 4100, Accuracy: 84.78% Loss: 1.59\n",
      "Epoch: 4200, Accuracy: 84.59% Loss: 1.71\n",
      "Epoch: 4300, Accuracy: 84.92% Loss: 1.71\n",
      "Epoch: 4400, Accuracy: 84.55% Loss: 1.67\n",
      "Epoch: 4500, Accuracy: 85.19% Loss: 1.56\n",
      "Epoch: 4600, Accuracy: 85.45% Loss: 1.58\n",
      "Epoch: 4700, Accuracy: 82.70% Loss: 1.62\n",
      "Epoch: 4800, Accuracy: 85.53% Loss: 1.61\n",
      "Epoch: 4900, Accuracy: 85.62% Loss: 1.53\n"
     ]
    },
    {
     "data": {
      "image/png": "[encoded data removed]",
      "text/plain": [
       "<Figure size 432x288 with 1 Axes>"
      ]
     },
     "metadata": {
      "needs_background": "light"
     },
     "output_type": "display_data"
    },
    {
     "data": {
      "image/png": "[encoded data removed]",
      "text/plain": [
       "<Figure size 432x288 with 1 Axes>"
      ]
     },
     "metadata": {
      "needs_background": "light"
     },
     "output_type": "display_data"
    }
   ],
   "source": [
    "model = MyCNN()\n",
    "optimizer = torch.optim.Adam(model.parameters(), lr=0.001)\n",
    "batch_size = 32\n",
    "steps = 5000 #epochs\n",
    "runModel(model, batch_size, steps, optimizer)"
   ]
  },
  {
   "cell_type": "code",
   "execution_count": 37,
   "metadata": {},
   "outputs": [
    {
     "name": "stdout",
     "output_type": "stream",
     "text": [
      "Accuracy: 85.32%\n"
     ]
    }
   ],
   "source": [
    "acc = predict(model)\n",
    "print('Accuracy: {0:.2f}%'.format(acc*100))"
   ]
  },
  {
   "cell_type": "markdown",
   "metadata": {},
   "source": [
    "# 2D"
   ]
  },
  {
   "cell_type": "code",
   "execution_count": 157,
   "metadata": {},
   "outputs": [],
   "source": [
    "class ImprovedCNN(torch.nn.Module):\n",
    "    def __init__(self):\n",
    "        super().__init__()\n",
    "        self.conv1 = torch.nn.Conv2d(1, 16, kernel_size=5, padding=2)\n",
    "        self.conv2 = torch.nn.Conv2d(16, 32, kernel_size=5, padding=2)\n",
    "        self.fc1 = nn.Linear(32*7*7, 10)\n",
    "        self.dropout = nn.Dropout(0.2)\n",
    "        self.batchN = nn.BatchNorm2d(16)\n",
    "        self.batchN2 = nn.BatchNorm2d(32)\n",
    "        \n",
    "    def forward(self, x):\n",
    "        height = 28\n",
    "        width = 28\n",
    "        x = x.view(-1, height, width).unsqueeze(1)\n",
    "        x = self.conv1(x)\n",
    "        x = F.relu(x);\n",
    "        x = self.batchN(x)\n",
    "        x = F.max_pool2d(x, kernel_size = 2, stride=2)\n",
    "        x = self.dropout(x)\n",
    "        x = self.conv2(x)\n",
    "        x = F.relu(x)\n",
    "        x = self.batchN2(x)\n",
    "        x = F.max_pool2d(x, kernel_size = 2, stride=2)\n",
    "        n, c, h, w = x.size()\n",
    "        x = x.view(-1, c*h*w)\n",
    "        sm = nn.Softmax(dim = 1)\n",
    "        x = sm(self.fc1(x))\n",
    "        return x"
   ]
  },
  {
   "cell_type": "code",
   "execution_count": 161,
   "metadata": {
    "scrolled": false
   },
   "outputs": [
    {
     "name": "stdout",
     "output_type": "stream",
     "text": [
      "Epoch: 0, Accuracy: 26.31% Loss: 2.32\n",
      "Epoch: 100, Accuracy: 79.19% Loss: 1.68\n",
      "Epoch: 200, Accuracy: 83.19% Loss: 1.63\n",
      "Epoch: 300, Accuracy: 85.36% Loss: 1.59\n",
      "Epoch: 400, Accuracy: 85.64% Loss: 1.65\n",
      "Epoch: 500, Accuracy: 85.92% Loss: 1.62\n",
      "Epoch: 600, Accuracy: 86.70% Loss: 1.62\n",
      "Epoch: 700, Accuracy: 87.07% Loss: 1.59\n",
      "Epoch: 800, Accuracy: 87.53% Loss: 1.53\n",
      "Epoch: 900, Accuracy: 87.93% Loss: 1.52\n",
      "Epoch: 1000, Accuracy: 88.08% Loss: 1.59\n",
      "Epoch: 1100, Accuracy: 88.26% Loss: 1.64\n",
      "Epoch: 1200, Accuracy: 87.91% Loss: 1.60\n",
      "Epoch: 1300, Accuracy: 88.04% Loss: 1.55\n",
      "Epoch: 1400, Accuracy: 87.45% Loss: 1.53\n",
      "Epoch: 1500, Accuracy: 88.33% Loss: 1.59\n",
      "Epoch: 1600, Accuracy: 88.43% Loss: 1.55\n",
      "Epoch: 1700, Accuracy: 87.85% Loss: 1.59\n",
      "Epoch: 1800, Accuracy: 88.72% Loss: 1.51\n",
      "Epoch: 1900, Accuracy: 88.33% Loss: 1.58\n",
      "Epoch: 2000, Accuracy: 88.33% Loss: 1.55\n",
      "Epoch: 2100, Accuracy: 88.99% Loss: 1.54\n",
      "Epoch: 2200, Accuracy: 88.97% Loss: 1.50\n",
      "Epoch: 2300, Accuracy: 89.07% Loss: 1.55\n",
      "Epoch: 2400, Accuracy: 88.97% Loss: 1.58\n",
      "Epoch: 2500, Accuracy: 88.68% Loss: 1.49\n",
      "Epoch: 2600, Accuracy: 89.13% Loss: 1.55\n",
      "Epoch: 2700, Accuracy: 88.83% Loss: 1.57\n",
      "Epoch: 2800, Accuracy: 89.41% Loss: 1.58\n",
      "Epoch: 2900, Accuracy: 89.58% Loss: 1.51\n"
     ]
    },
    {
     "data": {
      "image/png": "[encoded data removed]",
      "text/plain": [
       "<Figure size 432x288 with 1 Axes>"
      ]
     },
     "metadata": {
      "needs_background": "light"
     },
     "output_type": "display_data"
    },
    {
     "data": {
      "image/png": "[encoded data removed]",
      "text/plain": [
       "<Figure size 432x288 with 1 Axes>"
      ]
     },
     "metadata": {
      "needs_background": "light"
     },
     "output_type": "display_data"
    }
   ],
   "source": [
    "modelImproved = ImprovedCNN()\n",
    "optimizerAdam = torch.optim.Adam(modelImproved.parameters(), lr=0.001)\n",
    "runModel(modelImproved, 64, 3000, optimizerAdam)"
   ]
  },
  {
   "cell_type": "code",
   "execution_count": 163,
   "metadata": {},
   "outputs": [
    {
     "name": "stdout",
     "output_type": "stream",
     "text": [
      "Accuracy: 88.68%\n"
     ]
    }
   ],
   "source": [
    "acc = predict(modelImproved)\n",
    "print(\"Accuracy: {0:.2f}%\".format(acc*100))"
   ]
  },
  {
   "cell_type": "code",
   "execution_count": null,
   "metadata": {},
   "outputs": [],
   "source": []
  }
 ],
 "metadata": {
  "kernelspec": {
   "display_name": "Python 3",
   "language": "python",
   "name": "python3"
  },
  "language_info": {
   "codemirror_mode": {
    "name": "ipython",
    "version": 3
   },
   "file_extension": ".py",
   "mimetype": "text/x-python",
   "name": "python",
   "nbconvert_exporter": "python",
   "pygments_lexer": "ipython3",
   "version": "3.6.6"
  }
 },
 "nbformat": 4,
 "nbformat_minor": 2
}
