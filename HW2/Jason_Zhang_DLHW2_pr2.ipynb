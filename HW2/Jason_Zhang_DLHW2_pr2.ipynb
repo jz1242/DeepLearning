{
 "cells": [
  {
   "cell_type": "code",
   "execution_count": 1,
   "metadata": {},
   "outputs": [],
   "source": [
    "##### Fall 2019 Deep Learning Problem 2 Dataset #####\n",
    "\n",
    "# Apply your code on the toy dataset, which has 40 points.\n",
    "\n",
    "# The data points are in 4-D. \n",
    "\n",
    "# The dataset have 4 classes in total, which are denoted by 0, 1, 2, 3 in Y for each class.\n",
    "\n",
    "# The following Python code can be used to load the data for each data set specified by the \"dataind\".\n",
    "\n",
    "import numpy as np\n",
    "import matplotlib.pyplot as plt\n",
    "\n",
    "svpath = './Q2_data.npz'\n",
    "data = np.load(svpath)\n",
    "\n",
    "# X, array of shape [n_samples, n_features]\n",
    "# Y, array of shape [n_samples]\n",
    "X = data['X']\n",
    "Y = data['Y']\n",
    "\n",
    "samples = X.shape[0]\n",
    "features = X.shape[1]"
   ]
  },
  {
   "cell_type": "code",
   "execution_count": 12,
   "metadata": {
    "scrolled": false
   },
   "outputs": [],
   "source": [
    "class LinearModel:\n",
    "    def __init__(self, a, b): #set the iterations and the descent rate\n",
    "        super().__init__() \n",
    "        self.epochs = a\n",
    "        self.rate = b\n",
    "    def forward(self, X, W, b):\n",
    "        return np.add(np.dot(W, X),  b)\n",
    "    def train(self, X: np.ndarray, y: np.ndarray):\n",
    "        classes = np.unique(y).size\n",
    "        W = np.zeros([classes, X.shape[0]])\n",
    "        b = np.zeros([classes, 1])\n",
    "        one_hot_y = np.zeros([classes, y.shape[0]]) #one hot encoding of y\n",
    "        losses = np.zeros(self.epochs)\n",
    "        acc = np.zeros(self.epochs)\n",
    "        \n",
    "        for i in range(y.shape[0]):\n",
    "            one_hot_y[int(y[i])][i] = 1\n",
    "        \n",
    "        for i in range(self.epochs):\n",
    "            y_hat = self.forward(X, W, b)\n",
    "            outputs = self.softmax_func(y_hat)\n",
    "            w_grad, b_grad = self.grad(X, one_hot_y, b, outputs)\n",
    "            W -= self.rate*w_grad\n",
    "            b -= self.rate*b_grad\n",
    "            losses[i] = self.loss(outputs, one_hot_y)\n",
    "            acc[i] = self.classification_accuracy(W, X, b, y)\n",
    "        self.plot(losses, acc)\n",
    "            \n",
    "    def softmax_func(self, y_hat):\n",
    "        return np.exp(y_hat) / np.sum(np.exp(y_hat), axis=0)\n",
    "        \n",
    "    def predict(self, W:np.ndarray, X: np.ndarray, b:np.ndarray):\n",
    "        y_hat = self.forward(X, W, b)\n",
    "        outputs = self.softmax_func(y_hat)\n",
    "        return np.argmax(outputs, axis = 0)\n",
    "\n",
    "    def loss(self, outputs: np.ndarray, y: np.ndarray):\n",
    "        # Using KL divergence as loss, but entropy is 0 because the entropy of the true label is 0, thus we are only left\n",
    "        # with the cross entropy calculated below\n",
    "        outputs[outputs == 0] = 0.00001\n",
    "        return -(np.sum(y*np.log(outputs)))\n",
    "\n",
    "    def grad(self, X: np.ndarray, y: np.ndarray, b: np.ndarray, outputs): \n",
    "        # Use backpropagation dE/dw = dE/dy dy/dw, where E is the outputed cost, y is the prediction\n",
    "        samples = X.shape[1]\n",
    "        grad_e_y = -(y - outputs) # y = WX + b\n",
    "        grad_y_w = X\n",
    "        grad_e_w = (1/samples) * np.dot(grad_e_y, np.transpose(X)) #average across all samples\n",
    "        grad_y_b = 1\n",
    "        grad_e_b = (1/samples) * np.sum(grad_e_y, axis=1) #average across all samples\n",
    "        print(grad_e_y.shape)\n",
    "        return grad_e_w, grad_e_b.reshape(grad_e_b.shape[0], 1)\n",
    "    \n",
    "    def classification_accuracy(self, W:np.ndarray, X: np.ndarray, b:np.ndarray, y: np.ndarray):\n",
    "        pred = self.predict(W, X, b)\n",
    "        samples = y.shape[0]\n",
    "        count = 0\n",
    "        for i in range(samples):\n",
    "            if pred[i] == y[i]:\n",
    "                count = count + 1\n",
    "        return count/samples\n",
    "    \n",
    "    def plot(self, loss:np.ndarray, acc:np.ndarray):\n",
    "        \n",
    "        plt.plot(acc)\n",
    "        plt.title('Accuracy per epoch')\n",
    "        plt.xlabel('Epochs')\n",
    "        plt.ylabel('%Accuracy')\n",
    "        plt.show()\n",
    "        \n",
    "        plt.plot(loss)\n",
    "        plt.title('Loss per epoch')\n",
    "        plt.xlabel('Epochs')\n",
    "        plt.ylabel('Loss')\n",
    "        plt.show()\n",
    "        \n",
    "        print('Accuracy: ' + str(acc[-1]*100) + '%')\n",
    "    "
   ]
  },
  {
   "cell_type": "code",
   "execution_count": 13,
   "metadata": {
    "scrolled": false
   },
   "outputs": [
    {
     "name": "stdout",
     "output_type": "stream",
     "text": [
      "(4, 40)\n",
      "(4, 40)\n",
      "(4, 40)\n",
      "(4, 40)\n",
      "(4, 40)\n",
      "(4, 40)\n",
      "(4, 40)\n",
      "(4, 40)\n",
      "(4, 40)\n",
      "(4, 40)\n"
     ]
    },
    {
     "data": {
      "image/png": "[encoded data removed]",
      "text/plain": [
       "<Figure size 432x288 with 1 Axes>"
      ]
     },
     "metadata": {
      "needs_background": "light"
     },
     "output_type": "display_data"
    },
    {
     "data": {
      "image/png": "[encoded data removed]",
      "text/plain": [
       "<Figure size 432x288 with 1 Axes>"
      ]
     },
     "metadata": {
      "needs_background": "light"
     },
     "output_type": "display_data"
    },
    {
     "name": "stdout",
     "output_type": "stream",
     "text": [
      "Accuracy: 70.0%\n"
     ]
    }
   ],
   "source": [
    "model = LinearModel(10, 0.1)\n",
    "a = model.train(np.transpose(X),Y)"
   ]
  },
  {
   "cell_type": "code",
   "execution_count": null,
   "metadata": {},
   "outputs": [],
   "source": []
  }
 ],
 "metadata": {
  "kernelspec": {
   "display_name": "Python 3",
   "language": "python",
   "name": "python3"
  },
  "language_info": {
   "codemirror_mode": {
    "name": "ipython",
    "version": 3
   },
   "file_extension": ".py",
   "mimetype": "text/x-python",
   "name": "python",
   "nbconvert_exporter": "python",
   "pygments_lexer": "ipython3",
   "version": "3.6.6"
  }
 },
 "nbformat": 4,
 "nbformat_minor": 2
}
